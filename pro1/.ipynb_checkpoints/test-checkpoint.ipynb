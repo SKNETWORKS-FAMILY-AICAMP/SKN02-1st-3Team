{
 "cells": [
  {
   "cell_type": "code",
   "execution_count": null,
   "metadata": {},
   "outputs": [
    {
     "ename": "",
     "evalue": "",
     "output_type": "error",
     "traceback": [
      "\u001b[1;31mRunning cells with 'pro1Ex (Python 3.7.16)' requires the ipykernel package.\n",
      "\u001b[1;31mRun the following command to install 'ipykernel' into the Python environment. \n",
      "\u001b[1;31mCommand: 'conda install -n pro1Ex ipykernel --update-deps --force-reinstall'"
     ]
    }
   ],
   "source": [
    "import folium\n",
    "m = folium.Map(location=[37.53897093698831, 127.05461953077439], \n",
    "               zoom_start=14, \n",
    "               )\n",
    "# 뚝섬역\n",
    "folium.Marker([37.54706945947954, 127.04740975332888]).add_to(m) # 마커 찍고싶은 좌표를 구해와서 원본 m에다 표시/추가\n",
    "# 성수역\n",
    "folium.Marker([37.54461957910074, 127.05590699103249], # 성수역 마커에다간 기본 세팅에서 옵션 추가\n",
    "              popup='<b>subway</b>').add_to(m) # popup: 마커 클릭시 팝업으로 상세내용 표시되는 옵션 추가\n",
    "# 건대입구역\n",
    "folium.Marker([37.54041716624373, 127.06914637466906],\n",
    "              popup='<b>subway</b>',\n",
    "              tooltip='<i>건대입구역</i>').add_to(m) # tooltip: 마우스오버시 상세내용 표시\n",
    "\n",
    "m"
   ]
  },
  {
   "cell_type": "code",
   "execution_count": null,
   "metadata": {},
   "outputs": [],
   "source": []
  }
 ],
 "metadata": {
  "kernelspec": {
   "display_name": "pro1Ex",
   "language": "python",
   "name": "python3"
  },
  "language_info": {
   "name": "python",
   "version": "3.7.16"
  }
 },
 "nbformat": 4,
 "nbformat_minor": 2
}

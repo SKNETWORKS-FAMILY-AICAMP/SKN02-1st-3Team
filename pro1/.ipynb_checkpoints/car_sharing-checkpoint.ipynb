{
 "cells": [
  {
   "cell_type": "code",
   "execution_count": null,
   "metadata": {},
   "outputs": [
    {
     "ename": "",
     "evalue": "",
     "output_type": "error",
     "traceback": [
      "\u001b[1;31mRunning cells with 'pro1Ex (Python 3.7.16)' requires the ipykernel package.\n",
      "\u001b[1;31mRun the following command to install 'ipykernel' into the Python environment. \n",
      "\u001b[1;31mCommand: 'conda install -n pro1Ex ipykernel --update-deps --force-reinstall'"
     ]
    }
   ],
   "source": [
    "import os\n",
    "import datetime\n",
    "import json\n",
    "import pandas as pd\n",
    "\n",
    "import urllib.request\n",
    "from urllib.parse import quote"
   ]
  },
  {
   "cell_type": "code",
   "execution_count": 3,
   "metadata": {},
   "outputs": [],
   "source": [
    "def getRequestUrl(url):\n",
    "    req = urllib.request.Request(url)    \n",
    "    try: \n",
    "        response = urllib.request.urlopen(req)\n",
    "        if response.getcode() == 200:\n",
    "            print (\"[%s] Url Request Success\" % datetime.datetime.now())\n",
    "            return response.read().decode('utf-8')\n",
    "    except Exception as e:\n",
    "        print(e)\n",
    "        print(\"[%s] Error for URL : %s\" % (datetime.datetime.now(), url))\n",
    "        return None\n",
    "        \n",
    "def getCarSharingItem(ServiceKey, address, numOfRows, pageNo):\n",
    "    address = quote(address)\n",
    "    service_url = \"http://apis.data.go.kr/1613000/CarSharingInfoService/getCarZoneListByAddr\"\n",
    "    parameters = \"?_type=json&serviceKey=\" + ServiceKey   #인증키\n",
    "    parameters += \"&zoneAddr=\" + address\n",
    "    parameters += \"&numOfRows=\" + str(numOfRows)\n",
    "    parameters += \"&pageNo=\" + str(pageNo)\n",
    "    url = service_url + parameters\n",
    "\n",
    "    retData = getRequestUrl(url)\n",
    "    if (retData == None):\n",
    "        return None\n",
    "    else:\n",
    "         return json.loads(retData)"
   ]
  },
  {
   "cell_type": "code",
   "execution_count": 5,
   "metadata": {},
   "outputs": [],
   "source": [
    "def getCarSharingService(ServiceKey, address_list, numOfRows, pageNo):\n",
    "    CarSharingResult = []\n",
    "    #result = []\n",
    "    \n",
    "    isDataEnd = 0 #데이터 끝 확인용 flag 초기화    \n",
    "    \n",
    "    for address in address_list:        \n",
    "        if(isDataEnd == 1): break #데이터 끝 flag 설정되어있으면 작업 중지.    \n",
    "        jsonData = getCarSharingItem(ServiceKey, address, numOfRows, pageNo) #[CODE 2]\n",
    "        \n",
    "        if (jsonData['response']['header']['resultMsg'] == 'NORMAL SERVICE.'):               \n",
    "            # 입력된 범위까지 수집하지 않았지만, 더이상 제공되는 데이터가 없는 마지막 항목인 경우 -------------------\n",
    "            if jsonData['response']['body']['items'] == '': \n",
    "                isDataEnd = 1 #데이터 끝 flag 설정\n",
    "                print(\"데이터 없음.... \\n\")                    \n",
    "                break                \n",
    "\n",
    "            for item in jsonData['response']['body']['items']['item']:\n",
    "                address = item['address']\n",
    "                latitude = item['latitude']\n",
    "                longitude = item['longitude']\n",
    "                car_type = item['type']\n",
    "                zoneId = item['zoneId']\n",
    "                zoneName = item['zoneName']\n",
    "                CarSharingResult.append({'address': address, 'latitude': latitude,\n",
    "                                    'longitude': longitude, 'car_type': car_type,\n",
    "                                    'zoneId': zoneId, 'zoneName': zoneName,})\n",
    "            print('----------------------------------------------------------------------')                \n",
    "                \n",
    "    return CarSharingResult\n",
    "\n",
    "def main():\n",
    "    ServiceKey=\"tQsECUqWLM2JML%2Bnz3kOEq9uDjAED9izGBtf%2FmMuGV7J7umjp9e2THwU2XkZAeos6e11mz0peBAEaQMGtFfBcA%3D%3D\"\n",
    "    #car_sharing_df = pd.DataFrame()\n",
    "    #변수: address, latitude, longitude, type, zoneId, zoneName\n",
    "    car_sharing_data = []\n",
    "    address_list = ['강원', '경기', '경남', '경북', '광주', '대구', '대전', '부산', '서울','울산', '인천', '전남', '전북', '제주', '충남', '충북']\n",
    "\n",
    "    numOfRows = 1500\n",
    "    pageNo = 1\n",
    "    CarSharingResult = getCarSharingService(ServiceKey, address_list, numOfRows, pageNo)\n",
    "\n",
    "    # 파일 저장\n",
    "    result_path = os.path.join(os.getcwd(), 'result_data')\n",
    "    os.makedirs(result_path, exist_ok=True)\n",
    "\n",
    "    columns = [\"address\", \"latitude\", \"longitude\", \"car_type\", \"zoneId\", \"zoneName\"]\n",
    "    result_df = pd.DataFrame(CarSharingResult, columns = columns)\n",
    "    result_df.to_csv(os.path.join(result_path, 'car_sharing_df.csv'), index=False, encoding='utf-8')"
   ]
  },
  {
   "cell_type": "code",
   "execution_count": null,
   "metadata": {},
   "outputs": [],
   "source": []
  }
 ],
 "metadata": {
  "kernelspec": {
   "display_name": "base",
   "language": "python",
   "name": "python3"
  },
  "language_info": {
   "codemirror_mode": {
    "name": "ipython",
    "version": 3
   },
   "file_extension": ".py",
   "mimetype": "text/x-python",
   "name": "python",
   "nbconvert_exporter": "python",
   "pygments_lexer": "ipython3",
   "version": "3.7.16"
  }
 },
 "nbformat": 4,
 "nbformat_minor": 2
}

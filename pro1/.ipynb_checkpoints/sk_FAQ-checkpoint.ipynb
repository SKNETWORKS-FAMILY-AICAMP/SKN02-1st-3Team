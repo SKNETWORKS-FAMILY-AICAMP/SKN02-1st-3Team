{
 "cells": [
  {
   "cell_type": "code",
   "execution_count": 13,
   "metadata": {},
   "outputs": [],
   "source": [
    "import time\n",
    "import pandas as pd\n",
    "import os\n",
    "\n",
    "import requests\n",
    "from bs4 import BeautifulSoup\n",
    "\n",
    "from selenium import webdriver\n",
    "from selenium.webdriver.common.by import By\n",
    "from selenium.webdriver.chrome.service import Service\n",
    "from webdriver_manager.chrome import ChromeDriverManager"
   ]
  },
  {
   "cell_type": "code",
   "execution_count": null,
   "metadata": {},
   "outputs": [
    {
     "ename": "",
     "evalue": "",
     "output_type": "error",
     "traceback": [
      "\u001b[1;31mRunning cells with 'pro1Ex (Python 3.7.16)' requires the ipykernel package.\n",
      "\u001b[1;31mRun the following command to install 'ipykernel' into the Python environment. \n",
      "\u001b[1;31mCommand: 'conda install -n pro1Ex ipykernel --update-deps --force-reinstall'"
     ]
    }
   ],
   "source": []
  },
  {
   "cell_type": "code",
   "execution_count": null,
   "metadata": {},
   "outputs": [],
   "source": [
    "def get_FAQ_data(driver):\n",
    "    page_len = driver.find_elements(By.CLASS_NAME, \"page_link\")\n",
    "    page_len = len(page_links) # 총 FAQ 페이지 수\n",
    "    \n",
    "    faq_data = []\n",
    "    for i in range(page_len):\n",
    "        time.sleep(2)\n",
    "        # 한 페이지에 있는 질문 리스트 추출\n",
    "        branch_search = driver.find_element(By.CLASS_NAME, 'branch_serch')\n",
    "        branch_list = branch_search.find_elements(By.CLASS_NAME, 'branch_wrap')\n",
    "        print(f\"----------- {i+1}번째 데이터 길이: \", len(branch_list), \"-----------\")\n",
    "\n",
    "        for j in range(len(branch_list)):\n",
    "            # 질문 및 답변 추출\n",
    "            try:\n",
    "                btn = driver.find_element(By.CSS_SELECTOR, f'#root > div > div > div.container > div > div.contents > div.branch_serch > div:nth-child({j+2}) > a')\n",
    "                #driver.execute_script(\"arguments[0].scrollIntoView(true);\", btn)\n",
    "                time.sleep(1) \n",
    "                btn.click()\n",
    "\n",
    "                time.sleep(3)\n",
    "                \n",
    "                question = driver.find_element(By.CSS_SELECTOR, '#root > div > div > div.container > div > div.contents > div.board_detail > div.board_title > p').text\n",
    "                answer = driver.find_element(By.CSS_SELECTOR, '#root > div > div > div.container > div > div.contents > div.board_detail > div.board_contents.mt20 > p').text\n",
    "                #\n",
    "                # print(question)\n",
    "\n",
    "                # 데이터 저장\n",
    "                faq_data.append([question, answer])\n",
    "\n",
    "                # 목록으로 돌아가기\n",
    "                back_btn = driver.find_element(By.CSS_SELECTOR, '#root > div > div > div.container > div > div.contents > div.btn_group.single > a')\n",
    "                back_btn.click()\n",
    "                time.sleep(3)\n",
    "\n",
    "            except Exception as e:\n",
    "                    print(f\"Error on page {i+1}, question {j+1}: {e}\")\n",
    "                    break\n",
    "        \n",
    "        print(f\"----------- {i+1} 번째 페이지 크롤링 종료 -----------\")\n",
    "        time.sleep(2)\n",
    "\n",
    "        if i < page_len - 1:\n",
    "            next_page_btn = driver.find_element(By.CSS_SELECTOR, f'#root > div > div > div.container > div > div.contents > div.branch_serch > nav > ol > li:nth-child({i+2})')\n",
    "            next_page_btn.click()\n",
    "            time.sleep(3)  # 다음 페이지 로드 대기\n",
    "            \n",
    "    print(f\"----------- FAQ 크롤링 종료 -----------\")\n",
    "    return faq_data\n",
    "    \n",
    "    \n",
    "def safe_data(df):\n",
    "    result_path = os.path.join(os.getcwd(), 'result_data')\n",
    "    os.makedirs(result_path, exist_ok=True)\n",
    "    df.to_csv(os.path.join(result_path, 'faq_df.csv'), index=False, encoding='utf-8')\n",
    "    \n",
    "def get_prepare(url):\n",
    "    # 크롬 드라이버 생성 및 url 접속\n",
    "    driver = webdriver.Chrome(service=Service(ChromeDriverManager().install()))\n",
    "    driver.get(url)\n",
    "    time.sleep(3)\n",
    "    \n",
    "    result = get_FAQ_data(driver)\n",
    "    faq_df = pd.DataFrame(result, columns=['Question', 'Answer'])\n",
    "    safe_data(faq_df)"
   ]
  },
  {
   "cell_type": "code",
   "execution_count": 7,
   "metadata": {},
   "outputs": [
    {
     "data": {
      "text/plain": [
       "36"
      ]
     },
     "execution_count": 7,
     "metadata": {},
     "output_type": "execute_result"
    }
   ],
   "source": [
    "## main.py\n",
    "faq_url = \"https://homepage.skcarrental.com/customer/faq\"\n",
    "get_prepare(faq_url)"
   ]
  },
  {
   "cell_type": "code",
   "execution_count": null,
   "metadata": {},
   "outputs": [],
   "source": []
  }
 ],
 "metadata": {
  "kernelspec": {
   "display_name": "base",
   "language": "python",
   "name": "python3"
  },
  "language_info": {
   "codemirror_mode": {
    "name": "ipython",
    "version": 3
   },
   "file_extension": ".py",
   "mimetype": "text/x-python",
   "name": "python",
   "nbconvert_exporter": "python",
   "pygments_lexer": "ipython3",
   "version": "3.7.16"
  }
 },
 "nbformat": 4,
 "nbformat_minor": 2
}

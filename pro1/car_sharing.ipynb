{
 "cells": [
  {
   "cell_type": "code",
   "execution_count": 1,
   "metadata": {},
   "outputs": [],
   "source": [
    "import os\n",
    "import datetime\n",
    "import json\n",
    "import pandas as pd\n",
    "\n",
    "import urllib.request\n",
    "from urllib.parse import quote"
   ]
  },
  {
   "cell_type": "code",
   "execution_count": 3,
   "metadata": {},
   "outputs": [],
   "source": [
    "def getRequestUrl(url):\n",
    "    req = urllib.request.Request(url)    \n",
    "    try: \n",
    "        response = urllib.request.urlopen(req)\n",
    "        if response.getcode() == 200:\n",
    "            print (\"[%s] Url Request Success\" % datetime.datetime.now())\n",
    "            return response.read().decode('utf-8')\n",
    "    except Exception as e:\n",
    "        print(e)\n",
    "        print(\"[%s] Error for URL : %s\" % (datetime.datetime.now(), url))\n",
    "        return None\n",
    "        \n",
    "def getCarSharingItem(ServiceKey, address, numOfRows, pageNo):\n",
    "    address = quote(address)\n",
    "    service_url = \"http://apis.data.go.kr/1613000/CarSharingInfoService/getCarZoneListByAddr\"\n",
    "    parameters = \"?_type=json&serviceKey=\" + ServiceKey   #인증키\n",
    "    parameters += \"&zoneAddr=\" + address\n",
    "    parameters += \"&numOfRows=\" + str(numOfRows)\n",
    "    parameters += \"&pageNo=\" + str(pageNo)\n",
    "    url = service_url + parameters\n",
    "\n",
    "    retData = getRequestUrl(url)\n",
    "    if (retData == None):\n",
    "        return None\n",
    "    else:\n",
    "         return json.loads(retData)"
   ]
  },
  {
   "cell_type": "code",
   "execution_count": 2,
   "metadata": {},
   "outputs": [],
   "source": [
    "def getCarSharingService(ServiceKey, address_list, numOfRows, pageNo):\n",
    "    CarSharingResult = []\n",
    "    #result = []\n",
    "    \n",
    "    isDataEnd = 0 #데이터 끝 확인용 flag 초기화    \n",
    "    \n",
    "    for address in address_list:        \n",
    "        if(isDataEnd == 1): break #데이터 끝 flag 설정되어있으면 작업 중지.    \n",
    "        jsonData = getCarSharingItem(ServiceKey, address, numOfRows, pageNo) #[CODE 2]\n",
    "        \n",
    "        if (jsonData['response']['header']['resultMsg'] == 'NORMAL SERVICE.'):               \n",
    "            # 입력된 범위까지 수집하지 않았지만, 더이상 제공되는 데이터가 없는 마지막 항목인 경우 -------------------\n",
    "            if jsonData['response']['body']['items'] == '': \n",
    "                isDataEnd = 1 #데이터 끝 flag 설정\n",
    "                print(\"데이터 없음.... \\n\")                    \n",
    "                break                \n",
    "\n",
    "            for item in jsonData['response']['body']['items']['item']:\n",
    "                address = item['address']\n",
    "                latitude = item['latitude']\n",
    "                longitude = item['longitude']\n",
    "                car_type = item['type']\n",
    "                zoneId = item['zoneId']\n",
    "                zoneName = item['zoneName']\n",
    "                CarSharingResult.append({'address': address, 'latitude': latitude,\n",
    "                                    'longitude': longitude, 'car_type': car_type,\n",
    "                                    'zoneId': zoneId, 'zoneName': zoneName,})\n",
    "            print('----------------------------------------------------------------------')                \n",
    "                \n",
    "    return CarSharingResult\n",
    "\n",
    "def main():\n",
    "    ServiceKey=\"tQsECUqWLM2JML%2Bnz3kOEq9uDjAED9izGBtf%2FmMuGV7J7umjp9e2THwU2XkZAeos6e11mz0peBAEaQMGtFfBcA%3D%3D\"\n",
    "    #car_sharing_df = pd.DataFrame()\n",
    "    #변수: address, latitude, longitude, type, zoneId, zoneName\n",
    "    car_sharing_data = []\n",
    "    address_list = ['강원', '경기', '경남', '경북', '광주', '대구', '대전', '부산', '서울','울산', '인천', '전남', '전북', '제주', '충남', '충북']\n",
    "\n",
    "    numOfRows = 1500\n",
    "    pageNo = 1\n",
    "    CarSharingResult = getCarSharingService(ServiceKey, address_list, numOfRows, pageNo)\n",
    "\n",
    "    # 파일 저장\n",
    "    result_path = os.path.join(os.getcwd(), 'result_data')\n",
    "    os.makedirs(result_path, exist_ok=True)\n",
    "\n",
    "    columns = [\"address\", \"latitude\", \"longitude\", \"car_type\", \"zoneId\", \"zoneName\"]\n",
    "    result_df = pd.DataFrame(CarSharingResult, columns = columns)\n",
    "    result_df.to_csv(os.path.join(result_path, 'car_sharing_df.csv'), index=False, encoding='utf-8')"
   ]
  },
  {
   "cell_type": "code",
   "execution_count": 3,
   "metadata": {},
   "outputs": [
    {
     "name": "stdout",
     "output_type": "stream",
     "text": [
      "Defaulting to user installation because normal site-packages is not writeable\n",
      "Collecting geopy\n",
      "  Downloading geopy-2.4.1-py3-none-any.whl.metadata (6.8 kB)\n",
      "Collecting geographiclib<3,>=1.52 (from geopy)\n",
      "  Downloading geographiclib-2.0-py3-none-any.whl.metadata (1.4 kB)\n",
      "Downloading geopy-2.4.1-py3-none-any.whl (125 kB)\n",
      "   ---------------------------------------- 0.0/125.4 kB ? eta -:--:--\n",
      "   --- ------------------------------------ 10.2/125.4 kB ? eta -:--:--\n",
      "   ---------------------------------------- 125.4/125.4 kB 3.6 MB/s eta 0:00:00\n",
      "Downloading geographiclib-2.0-py3-none-any.whl (40 kB)\n",
      "   ---------------------------------------- 0.0/40.3 kB ? eta -:--:--\n",
      "   ---------------------------------------- 40.3/40.3 kB ? eta 0:00:00\n",
      "Installing collected packages: geographiclib, geopy\n",
      "Successfully installed geographiclib-2.0 geopy-2.4.1\n"
     ]
    }
   ],
   "source": [
    "!pip install geopy"
   ]
  },
  {
   "cell_type": "code",
   "execution_count": 4,
   "metadata": {},
   "outputs": [
    {
     "name": "stderr",
     "output_type": "stream",
     "text": [
      "2024-06-04 12:21:14.660 \n",
      "  \u001b[33m\u001b[1mWarning:\u001b[0m to view this Streamlit app on a browser, run it with the following\n",
      "  command:\n",
      "\n",
      "    streamlit run C:\\ProgramData\\anaconda3\\Lib\\site-packages\\ipykernel_launcher.py [ARGUMENTS]\n"
     ]
    },
    {
     "data": {
      "text/plain": [
       "DeltaGenerator()"
      ]
     },
     "execution_count": 4,
     "metadata": {},
     "output_type": "execute_result"
    },
    {
     "data": {
      "text/plain": [
       "<Figure size 640x480 with 0 Axes>"
      ]
     },
     "metadata": {},
     "output_type": "display_data"
    }
   ],
   "source": [
    "ㅍ"
   ]
  },
  {
   "cell_type": "code",
   "execution_count": null,
   "metadata": {},
   "outputs": [],
   "source": []
  }
 ],
 "metadata": {
  "kernelspec": {
   "display_name": "Python 3 (ipykernel)",
   "language": "python",
   "name": "python3"
  },
  "language_info": {
   "codemirror_mode": {
    "name": "ipython",
    "version": 3
   },
   "file_extension": ".py",
   "mimetype": "text/x-python",
   "name": "python",
   "nbconvert_exporter": "python",
   "pygments_lexer": "ipython3",
   "version": "3.7.1"
  }
 },
 "nbformat": 4,
 "nbformat_minor": 4
}
